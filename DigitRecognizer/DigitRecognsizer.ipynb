{
 "cells": [
  {
   "cell_type": "markdown",
   "metadata": {},
   "source": [
    "#Kaggle-数字识别"
   ]
  },
  {
   "cell_type": "code",
   "execution_count": 1,
   "metadata": {
    "collapsed": true
   },
   "outputs": [],
   "source": [
    "import pandas as pd\n",
    "import numpy as np\n",
    "import time\n",
    "from sklearn.neighbors import KNeighborsClassifier\n",
    "from sklearn.preprocessing import normalize\n",
    "from sklearn.decomposition import PCA\n",
    "from sklearn.ensemble import RandomForestClassifier\n",
    "from sklearn.externals import joblib\n",
    "from sklearn.cross_validation import KFold\n",
    "from sklearn.metrics import mean_squared_error\n",
    "import matplotlib.pyplot as plt\n",
    "import csv\n",
    "%matplotlib inline"
   ]
  },
  {
   "cell_type": "code",
   "execution_count": 2,
   "metadata": {
    "collapsed": false
   },
   "outputs": [],
   "source": [
    "#读取数据\n",
    "train_pd = pd.read_csv('data/train.csv')\n",
    "test_pd = pd.read_csv('data/test.csv')\n",
    "y,X = train_pd['label'].values,train_pd[train_pd.columns[1:]].values\n",
    "X_test = test_pd[test_pd.columns].values"
   ]
  },
  {
   "cell_type": "code",
   "execution_count": 3,
   "metadata": {
    "collapsed": false
   },
   "outputs": [],
   "source": [
    "#normalize\n",
    "X_train = normalize(X.astype(np.float32),axis=0)\n",
    "X_test = normalize(X_test.astype(np.float32),axis=0)"
   ]
  },
  {
   "cell_type": "code",
   "execution_count": 17,
   "metadata": {
    "collapsed": false
   },
   "outputs": [
    {
     "data": {
      "text/plain": [
       "<matplotlib.text.Text at 0x8bfaef0>"
      ]
     },
     "execution_count": 17,
     "metadata": {},
     "output_type": "execute_result"
    },
    {
     "data": {
      "image/png": "[encoded data removed]",
      "text/plain": [
       "<matplotlib.figure.Figure at 0x8b95048>"
      ]
     },
     "metadata": {},
     "output_type": "display_data"
    }
   ],
   "source": [
    "#主成分分析,利用\n",
    "t0 = time.time()\n",
    "cv_errors = []\n",
    "X_pca,y_pca = X_train[:2000,:],y[:2000]#取1000个样本进行主成分维度的选择\n",
    "k_flod = KFold(X_pca.shape[0],n_folds=10)\n",
    "n_components = range(1,700,50)\n",
    "for n_component in n_components:\n",
    "    pca = PCA(n_components=n_component)\n",
    "    X_temp = pca.fit_transform(X_pca)\n",
    "    rmses = []\n",
    "    for train,test in k_flod:\n",
    "        Xtrain,ytrain,Xtest,ytest = X_temp[train],y_pca[train],X_temp[test],y_pca[test]\n",
    "        clf = KNeighborsClassifier(n_neighbors=10).fit(Xtrain,ytrain)\n",
    "        ypred = clf.predict(Xtest)\n",
    "        rmses.append(np.sqrt(mean_squared_error(ypred,ytest)))\n",
    "    cv_errors.append(np.mean(rmses))\n",
    "t1 = time.time()\n",
    "plt.plot(n_components,cv_errors)\n",
    "plt.xlabel('n_compositions')\n",
    "plt.ylabel('cv_errors')"
   ]
  },
  {
   "cell_type": "code",
   "execution_count": 4,
   "metadata": {
    "collapsed": false,
    "scrolled": true
   },
   "outputs": [
    {
     "data": {
      "text/plain": [
       "((42000, 100), (28000, 100))"
      ]
     },
     "execution_count": 4,
     "metadata": {},
     "output_type": "execute_result"
    }
   ],
   "source": [
    "#因此将数据压缩至50维以增加训练的速度\n",
    "pca = PCA(n_components=100)\n",
    "X_train_final = pca.fit_transform(X_train)\n",
    "X_test_final = pca.fit_transform(X_test)\n",
    "X_train_final.shape,X_test_final.shape"
   ]
  },
  {
   "cell_type": "code",
   "execution_count": 5,
   "metadata": {
    "collapsed": false
   },
   "outputs": [
    {
     "name": "stdout",
     "output_type": "stream",
     "text": [
      "用时0.33秒\n"
     ]
    }
   ],
   "source": [
    "t2 = time.time()\n",
    "clf = KNeighborsClassifier(n_neighbors=10,weights='distance',algorithm='kd_tree')\n",
    "clf.fit(X_train_final,y)\n",
    "t3 = time.time()\n",
    "print(\"用时%.2f秒\"%(t3-t2))"
   ]
  },
  {
   "cell_type": "code",
   "execution_count": 6,
   "metadata": {
    "collapsed": false
   },
   "outputs": [
    {
     "name": "stdout",
     "output_type": "stream",
     "text": [
      "用时376.31秒\n"
     ]
    }
   ],
   "source": [
    "#预测\n",
    "t4=time.time()\n",
    "ypred = clf.predict(X_test_final)\n",
    "t5=time.time()\n",
    "print(\"用时%.2f秒\"%(t5-t4))"
   ]
  },
  {
   "cell_type": "code",
   "execution_count": 7,
   "metadata": {
    "collapsed": false
   },
   "outputs": [],
   "source": [
    "#保存结果\n",
    "with open(\"result0.csv\",\"w\",newline ='') as f:\n",
    "    writer = csv.writer(f)\n",
    "    writer.writerow(['ImageId','label'])\n",
    "    for i,number in enumerate(ypred):\n",
    "        writer.writerow([i+1,number])\n",
    "    f.close()"
   ]
  },
  {
   "cell_type": "code",
   "execution_count": 49,
   "metadata": {
    "collapsed": true
   },
   "outputs": [],
   "source": [
    "##精确率太低"
   ]
  },
  {
   "cell_type": "code",
   "execution_count": 52,
   "metadata": {
    "collapsed": true
   },
   "outputs": [],
   "source": [
    "##利用随机森林算法再试验\n",
    "rfc = RandomForestClassifier(n_estimators=500,max_features='sqrt',oob_score=True)"
   ]
  },
  {
   "cell_type": "code",
   "execution_count": 53,
   "metadata": {
    "collapsed": false
   },
   "outputs": [
    {
     "name": "stdout",
     "output_type": "stream",
     "text": [
      "用时148.74秒\n"
     ]
    }
   ],
   "source": [
    "t6= time.time()\n",
    "ypred = rfc.fit(X_train,y)\n",
    "t7 = time.time()\n",
    "print(\"用时%.2f秒\"%(t7-t6))"
   ]
  },
  {
   "cell_type": "code",
   "execution_count": 54,
   "metadata": {
    "collapsed": false
   },
   "outputs": [
    {
     "data": {
      "text/plain": [
       "5.282764911651611"
      ]
     },
     "execution_count": 54,
     "metadata": {},
     "output_type": "execute_result"
    }
   ],
   "source": [
    "t8 = time.time()\n",
    "ypred1 = rfc.predict(X_test)\n",
    "t9 = time.time()\n",
    "t9-t8"
   ]
  },
  {
   "cell_type": "code",
   "execution_count": 56,
   "metadata": {
    "collapsed": true
   },
   "outputs": [],
   "source": [
    "with open(\"result1.csv\",\"w\",newline ='') as f:\n",
    "    writer = csv.writer(f)\n",
    "    writer.writerow(['ImageId','label'])\n",
    "    for i,number in enumerate(ypred1):\n",
    "        writer.writerow([i+1,number])\n",
    "    f.close()"
   ]
  },
  {
   "cell_type": "markdown",
   "metadata": {},
   "source": [
    "###精确度达到0.968，且算法运行的速度很快，考虑利用随机森林和K-flod结合选择降维维度，再重新利用KNN算法"
   ]
  },
  {
   "cell_type": "code",
   "execution_count": 4,
   "metadata": {
    "collapsed": true
   },
   "outputs": [],
   "source": [
    "def dimSelection(X,y,n_components):\n",
    "    cv_errors = []\n",
    "    k_flod = KFold(X.shape[0],n_folds=10)\n",
    "    for n_component in n_components:\n",
    "        pca = PCA(n_components=n_component)\n",
    "        X_pca = pca.fit_transform(X)\n",
    "        rmses = []\n",
    "        for train,test in k_flod:\n",
    "            Xtrain,ytrain,Xtest,ytest = X_pca[train],y[train],X_pca[test],y[test]\n",
    "            rfc = RandomForestClassifier(n_estimators=500,max_features='sqrt')\n",
    "            rfc.fit(Xtrain,ytrain)\n",
    "            ypred = rfc.predict(Xtest)\n",
    "            rmses.append(np.sqrt(mean_squared_error(ypred,ytest)))\n",
    "        cv_errors.append(np.mean(rmses))\n",
    "        \n",
    "    plt.plot(n_components,cv_errors)\n",
    "    plt.xlabel('n_compositions')\n",
    "    plt.ylabel('cv_errors')\n",
    "    \n",
    "    return n_components[cv_errors.index(min(cv_errors))]"
   ]
  },
  {
   "cell_type": "code",
   "execution_count": null,
   "metadata": {
    "collapsed": false
   },
   "outputs": [],
   "source": [
    "t10 = time.time()\n",
    "n_components = range(50,700,50)\n",
    "dim = dimSelection(X_train,y,n_components)\n",
    "t11 = time.time()\n",
    "t11-t10"
   ]
  },
  {
   "cell_type": "code",
   "execution_count": null,
   "metadata": {
    "collapsed": true
   },
   "outputs": [],
   "source": []
  }
 ],
 "metadata": {
  "kernelspec": {
   "display_name": "Python 3",
   "language": "python",
   "name": "python3"
  },
  "language_info": {
   "codemirror_mode": {
    "name": "ipython",
    "version": 3
   },
   "file_extension": ".py",
   "mimetype": "text/x-python",
   "name": "python",
   "nbconvert_exporter": "python",
   "pygments_lexer": "ipython3",
   "version": "3.4.3"
  }
 },
 "nbformat": 4,
 "nbformat_minor": 0
}
